{
 "cells": [
  {
   "cell_type": "code",
   "execution_count": null,
   "id": "cfd66491-709f-4d76-abf5-e1ec5f57d8f1",
   "metadata": {},
   "outputs": [],
   "source": [
    "import ipywidgets as widgets\n",
    "from IPython.display import display, Javascript\n",
    "\n",
    "# Hidden widget to receive the query string\n",
    "params = widgets.Textarea(value='', layout=widgets.Layout(display='none'))\n",
    "display(params)\n",
    "\n",
    "# Robust JS: retry every 100ms until the widget appears\n",
    "display(Javascript(\"\"\"\n",
    "(function waitForWidget() {\n",
    "    const cell = document.querySelector('.widget-textarea textarea');\n",
    "    if (!cell) {\n",
    "        setTimeout(waitForWidget, 100);\n",
    "        return;\n",
    "    }\n",
    "    const params = new URLSearchParams(window.location.search);\n",
    "    const entries = Array.from(params.entries()).map(([k,v]) => `${k}=${v}`);\n",
    "    const text = entries.join(\"&\");\n",
    "    cell.value = text;\n",
    "    cell.dispatchEvent(new Event('input'));\n",
    "})();"
   ]
  },
  {
   "cell_type": "code",
   "execution_count": null,
   "id": "baaba335-7762-42e0-b4c3-fadf64cf60c1",
   "metadata": {},
   "outputs": [],
   "source": [
    "import urllib.parse as urlparse\n",
    "\n",
    "parsed = urlparse.parse_qs(params.value)\n",
    "name = parsed.get(\"name\", [\"stranger\"])[0]\n",
    "age = parsed.get(\"age\", [\"unknown\"])[0]\n",
    "\n",
    "display(widgets.HTML(f\"<h2>Hello {name}, you are {age} years old!</h2>\"))"
   ]
  }
 ],
 "metadata": {
  "kernelspec": {
   "display_name": "Python 3 (ipykernel)",
   "language": "python",
   "name": "python3"
  },
  "language_info": {
   "codemirror_mode": {
    "name": "ipython",
    "version": 3
   },
   "file_extension": ".py",
   "mimetype": "text/x-python",
   "name": "python",
   "nbconvert_exporter": "python",
   "pygments_lexer": "ipython3",
   "version": "3.13.2"
  }
 },
 "nbformat": 4,
 "nbformat_minor": 5
}
